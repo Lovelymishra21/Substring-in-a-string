{
 "cells": [
  {
   "cell_type": "code",
   "execution_count": 1,
   "id": "1ac54f1a",
   "metadata": {},
   "outputs": [
    {
     "name": "stdout",
     "output_type": "stream",
     "text": [
      "Enter the original string: This is the original string\n",
      "Enter the substring: is\n",
      "The substring 'is' occurs 2 times in the given string.\n"
     ]
    }
   ],
   "source": [
    "def count_substring(string, substring):\n",
    "    count = 0\n",
    "    start_index = 0\n",
    "\n",
    "    while True:\n",
    "        index = string.find(substring, start_index)\n",
    "        if index == -1:\n",
    "            break\n",
    "        count += 1\n",
    "        start_index = index + 1\n",
    "\n",
    "    return count\n",
    "\n",
    "# Get the input from the user\n",
    "string = input(\"Enter the original string: \")\n",
    "substring = input(\"Enter the substring: \")\n",
    "\n",
    "# Count the occurrences of the substring in the string\n",
    "occurrences = count_substring(string, substring)\n",
    "\n",
    "# Print the result\n",
    "print(f\"The substring '{substring}' occurs {occurrences} times in the given string.\")\n"
   ]
  },
  {
   "cell_type": "code",
   "execution_count": null,
   "id": "b92e2819",
   "metadata": {},
   "outputs": [],
   "source": []
  }
 ],
 "metadata": {
  "kernelspec": {
   "display_name": "Python 3 (ipykernel)",
   "language": "python",
   "name": "python3"
  },
  "language_info": {
   "codemirror_mode": {
    "name": "ipython",
    "version": 3
   },
   "file_extension": ".py",
   "mimetype": "text/x-python",
   "name": "python",
   "nbconvert_exporter": "python",
   "pygments_lexer": "ipython3",
   "version": "3.10.9"
  }
 },
 "nbformat": 4,
 "nbformat_minor": 5
}
